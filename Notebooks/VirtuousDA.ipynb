{
    "metadata": {
        "kernelspec": {
            "name": "SQL",
            "display_name": "SQL",
            "language": "sql"
        },
        "language_info": {
            "name": "sql",
            "version": ""
        }
    },
    "nbformat_minor": 2,
    "nbformat": 4,
    "cells": [
        {
            "cell_type": "code",
            "source": [
                "-- MockContacts Table\r\n",
                "DROP TABLE IF EXISTS [dbo].[MockContacts]\r\n",
                "\r\n",
                "CREATE TABLE dbo.MockContacts\r\n",
                "(\r\n",
                "    [Number] VARCHAR(11) NOT NULL\r\n",
                "    , CompanyName VARCHAR(255) NULL\r\n",
                "    , FirstName VARCHAR(100) NULL\r\n",
                "    , LastName VARCHAR(100) NULL\r\n",
                "    , Street VARCHAR(255) NULL\r\n",
                "    , City VARCHAR(100) NULL\r\n",
                "    , [State] VARCHAR(2) NULL\r\n",
                "    , Postal VARCHAR(20) NULL\r\n",
                "    , Phone VARCHAR(50) NULL\r\n",
                "    , EMail VARCHAR(255) NULL\r\n",
                "    , Remarks VARCHAR(2000) NULL\r\n",
                "    , [Deceased?] VARCHAR (3) NULL\r\n",
                "    , SourceFilename VARCHAR(2000) NOT NULL\r\n",
                "    , ETLInsertDatetime DATETIME2(7) NOT NULL CONSTRAINT DF_MockContacts_ETLInsertDatetime DEFAULT (GETUTCDATE())\r\n",
                ")"
            ],
            "metadata": {
                "language": "sql",
                "azdata_cell_guid": "d072d191-0a7e-4f88-9bd6-d29c7aecdd74",
                "tags": [
                    "hide_input"
                ]
            },
            "outputs": [
                {
                    "output_type": "display_data",
                    "data": {
                        "text/html": "Commands completed successfully."
                    },
                    "metadata": {}
                },
                {
                    "output_type": "display_data",
                    "data": {
                        "text/html": "Total execution time: 00:00:00.060"
                    },
                    "metadata": {}
                }
            ],
            "execution_count": 15
        },
        {
            "cell_type": "code",
            "source": [
                "-- MockGifts Table\r\n",
                "DROP TABLE IF EXISTS [dbo].[MockGifts]\r\n",
                "\r\n",
                "CREATE TABLE dbo.MockGifts\r\n",
                "(\r\n",
                "    donor_number VARCHAR(11) NOT NULL\r\n",
                "    , gift_id INT NULL\r\n",
                "    , first_name VARCHAR(100) NULL\r\n",
                "    , last_name VARCHAR(100) NULL\r\n",
                "    , [amount received] VARCHAR(100) NULL\r\n",
                "    , [date] VARCHAR(100) NULL\r\n",
                "    , [credit card type] VARCHAR(100) NULL\r\n",
                "    , [payment method] VARCHAR(100) NULL\r\n",
                "    , notes VARCHAR(2000) NULL\r\n",
                "    , SourceFilename VARCHAR(2000) NOT NULL\r\n",
                "    , ETLInsertDatetime DATETIME2(7) NOT NULL CONSTRAINT DF_MockGifts_ETLInsertDatetime DEFAULT (GETUTCDATE())\r\n",
                ")"
            ],
            "metadata": {
                "language": "sql",
                "azdata_cell_guid": "60c74ead-0d52-41d7-ab36-c34f5a67cfef",
                "tags": [
                    "hide_input"
                ]
            },
            "outputs": [
                {
                    "output_type": "display_data",
                    "data": {
                        "text/html": "Commands completed successfully."
                    },
                    "metadata": {}
                },
                {
                    "output_type": "display_data",
                    "data": {
                        "text/html": "Total execution time: 00:00:00.069"
                    },
                    "metadata": {}
                }
            ],
            "execution_count": 7
        },
        {
            "cell_type": "code",
            "source": [
                "-- MockContactMethods Table\r\n",
                "DROP TABLE IF EXISTS [dbo].[MockContactMethods]\r\n",
                "\r\n",
                "CREATE TABLE dbo.MockContactMethods\r\n",
                "(\r\n",
                "    donor_number VARCHAR(11) NOT NULL\r\n",
                "    , Phone VARCHAR(100) NULL\r\n",
                "    , [E-mail] VARCHAR(255) NULL\r\n",
                "    , Fax VARCHAR(100) NULL\r\n",
                "    , SourceFilename VARCHAR(2000) NOT NULL\r\n",
                "    , ETLInsertDatetime DATETIME2(7) NOT NULL CONSTRAINT DF_MockContactMethods_ETLInsertDatetime DEFAULT (GETUTCDATE())\r\n",
                ")"
            ],
            "metadata": {
                "language": "sql",
                "azdata_cell_guid": "2d11b7f3-ecc2-495f-871e-5e982f7cd754",
                "tags": [
                    "hide_input"
                ]
            },
            "outputs": [
                {
                    "output_type": "display_data",
                    "data": {
                        "text/html": "Commands completed successfully."
                    },
                    "metadata": {}
                },
                {
                    "output_type": "display_data",
                    "data": {
                        "text/html": "Total execution time: 00:00:00.050"
                    },
                    "metadata": {}
                }
            ],
            "execution_count": 8
        },
        {
            "cell_type": "code",
            "source": [
                "-- Virtuous Contacts Table\r\n",
                "DROP TABLE IF EXISTS\r\n",
                "    Contacts\r\n",
                "    , ContactTypes\r\n",
                "\r\n",
                "CREATE TABLE Contacts \r\n",
                "(\r\n",
                "    LegacyContactId VARCHAR(100) NOT NULL\r\n",
                "    , ContactType VARCHAR(30) NOT NULL CONSTRAINT DF_Contacts_ContactType DEFAULT ('Household')\r\n",
                "    , ContactName VARCHAR(300) NULL\r\n",
                "    , FirstName VARCHAR(100) NOT NULL CONSTRAINT DF_Contacts_FirstName DEFAULT ('FirstName_Placeholder')\r\n",
                "    , LastName VARCHAR(100) NOT NULL CONSTRAINT DF_Contacts_LastName DEFAULT ('LastName_Placeholder')\r\n",
                "    , HomePhone VARCHAR(50) NULL\r\n",
                "    , HomeEmail VARCHAR(255) NULL\r\n",
                "    , Address1 VARCHAR(255) NULL\r\n",
                "    , City VARCHAR(100) NULL\r\n",
                "    , [State] VARCHAR(2) NULL\r\n",
                "    , PostalCode VARCHAR(10) NULL\r\n",
                "    , IsPrivate VARCHAR(5) NULL\r\n",
                "    , IsDeceased VARCHAR(5) NOT NULL\r\n",
                ")\r\n",
                "\r\n",
                "CREATE TABLE ContactTypes \r\n",
                "(\r\n",
                "    ContactTypeId INT IDENTITY(1,1)\r\n",
                "    , ContactType VARCHAR(30)\r\n",
                ")\r\n",
                "\r\n",
                "INSERT INTO ContactTypes (ContactType)\r\n",
                "VALUES\r\n",
                "    ('Household')\r\n",
                "    , ('Organization')"
            ],
            "metadata": {
                "azdata_cell_guid": "5077a088-2705-4937-a57b-9f747186ba4d",
                "language": "sql",
                "tags": [
                    "hide_input"
                ]
            },
            "outputs": [
                {
                    "output_type": "display_data",
                    "data": {
                        "text/html": "(2 rows affected)"
                    },
                    "metadata": {}
                },
                {
                    "output_type": "display_data",
                    "data": {
                        "text/html": "Total execution time: 00:00:00.092"
                    },
                    "metadata": {}
                }
            ],
            "execution_count": 12
        },
        {
            "cell_type": "code",
            "source": [
                "-- Virtuous Gifts Table\r\n",
                "DROP TABLE IF EXISTS \r\n",
                "    dbo.Gifts\r\n",
                "    , dbo.GiftTypes\r\n",
                "    , dbo.CreditCardTypes\r\n",
                "\r\n",
                "CREATE TABLE dbo.GiftTypes \r\n",
                "(\r\n",
                "    GiftTypeId INT IDENTITY(1,1) NOT NULL\r\n",
                "    , GiftType VARCHAR(50) NOT NULL\r\n",
                ")\r\n",
                "\r\n",
                "CREATE TABLE dbo.CreditCardTypes \r\n",
                "(\r\n",
                "    CreditCardTypeId INT IDENTITY(1,1) NOT NULL\r\n",
                "    , CreditCardType VARCHAR(50) NOT NULL\r\n",
                ")\r\n",
                "\r\n",
                "CREATE TABLE dbo.Gifts \r\n",
                "(\r\n",
                "    LegacyContactId VARCHAR(100) NOT NULL\r\n",
                "    , LegacyGiftId INT NOT NULL\r\n",
                "    , GiftType VARCHAR(50) NOT NULL CONSTRAINT DF_Gifts_GiftType DEFAULT ('Other')\r\n",
                "    , GiftDate DATE NOT NULL\r\n",
                "    , GiftAmount DECIMAL(19,4) NOT NULL\r\n",
                "    , Notes VARCHAR(2000) NULL\r\n",
                "    , CreditCardType VARCHAR(50) NULL\r\n",
                ")\r\n",
                "\r\n",
                "INSERT INTO dbo.GiftTypes (GiftType)\r\n",
                "VALUES\r\n",
                "    ('Cash')\r\n",
                "    ,('Credit')\r\n",
                "    ,('Check')\r\n",
                "    ,('Other')\r\n",
                "    ,('Reversing Transaction')\r\n",
                "\r\n",
                "INSERT INTO dbo.CreditCardTypes (CreditCardType)\r\n",
                "VALUES\r\n",
                "    ('Visa')\r\n",
                "    , ('Mastercard')\r\n",
                "    , ('AMEX')\r\n",
                "    , ('Discover')\r\n",
                ""
            ],
            "metadata": {
                "language": "sql",
                "azdata_cell_guid": "9650a3f7-ed22-4a61-8aee-8ac725755270",
                "tags": [
                    "hide_input"
                ]
            },
            "outputs": [
                {
                    "output_type": "display_data",
                    "data": {
                        "text/html": "(5 rows affected)"
                    },
                    "metadata": {}
                },
                {
                    "output_type": "display_data",
                    "data": {
                        "text/html": "(4 rows affected)"
                    },
                    "metadata": {}
                },
                {
                    "output_type": "display_data",
                    "data": {
                        "text/html": "Total execution time: 00:00:00.101"
                    },
                    "metadata": {}
                }
            ],
            "execution_count": 13
        },
        {
            "cell_type": "code",
            "source": [
                "-- Virtuous Contact Methods Table\r\n",
                "\r\n",
                "DROP TABLE IF EXISTS \r\n",
                "    dbo.ContactMethods\r\n",
                "    , dbo.ContactMethodTypes\r\n",
                "\r\n",
                "CREATE TABLE dbo.ContactMethodTypes\r\n",
                "(\r\n",
                "    ContactMethodTypeId INT IDENTITY(1,1) NOT NULL\r\n",
                "    , ContactMethodType VARCHAR(50) NOT NULL\r\n",
                ")\r\n",
                "\r\n",
                "CREATE TABLE dbo.ContactMethods\r\n",
                "(\r\n",
                "    LegacyContactId VARCHAR(100) NOT NULL\r\n",
                "    , [Type] VARCHAR(50) NOT NULL\r\n",
                "    , [Value] VARCHAR(50) NOT NULL CONSTRAINT DF_ContactMethods_Value DEFAULT ('Placeholder')\r\n",
                ")\r\n",
                "\r\n",
                "INSERT INTO dbo.ContactMethodTypes (ContactMethodType)\r\n",
                "VALUES\r\n",
                "    ('HomePhone')\r\n",
                "    ,('HomeEmail')\r\n",
                "    ,('Fax')\r\n",
                ""
            ],
            "metadata": {
                "language": "sql",
                "azdata_cell_guid": "b21fb028-c423-4f2a-9e9e-d781aeba9f37",
                "tags": [
                    "hide_input"
                ]
            },
            "outputs": [
                {
                    "output_type": "display_data",
                    "data": {
                        "text/html": "(3 rows affected)"
                    },
                    "metadata": {}
                },
                {
                    "output_type": "display_data",
                    "data": {
                        "text/html": "Total execution time: 00:00:00.068"
                    },
                    "metadata": {}
                }
            ],
            "execution_count": 14
        },
        {
            "cell_type": "code",
            "source": [
                "-- State Abbreviation Table\r\n",
                "\r\n",
                "DROP TABLE IF EXISTS StateAbbreviations\r\n",
                "\r\n",
                "CREATE TABLE dbo.StateAbbreviations \r\n",
                "(\r\n",
                "    StateAbbreviationId INT IDENTITY(1,1) NOT NULL\r\n",
                "    , StateAbbreviation VARCHAR(2) NOT NULL\r\n",
                "    , StateName VARCHAR(100) NOT NULL\r\n",
                ")\r\n",
                "\r\n",
                "INSERT INTO dbo.StateAbbreviations\r\n",
                "(\r\n",
                "    StateAbbreviation\r\n",
                "    , StateName\r\n",
                ")\r\n",
                "VALUES\r\n",
                "('AL','Alabama')\r\n",
                ", ('AK','Alaska')\r\n",
                ", ('AZ','Arizona')\r\n",
                ", ('AR','Arkansas')\r\n",
                ", ('CA','California')\r\n",
                ", ('CO','Colorado')\r\n",
                ", ('CT','Connecticut')\r\n",
                ", ('DE','Delaware')\r\n",
                ", ('DC','District of Columbia')\r\n",
                ", ('FL','Florida')\r\n",
                ", ('GA','Georgia')\r\n",
                ", ('HI','Hawaii')\r\n",
                ", ('ID','Idaho')\r\n",
                ", ('IL','Illinois')\r\n",
                ", ('IN','Indiana')\r\n",
                ", ('IA','Iowa')\r\n",
                ", ('KS','Kansas')\r\n",
                ", ('KY','Kentucky')\r\n",
                ", ('LA','Louisiana')\r\n",
                ", ('ME','Maine')\r\n",
                ", ('MD','Maryland')\r\n",
                ", ('MA','Massachusetts')\r\n",
                ", ('MI','Michigan')\r\n",
                ", ('MN','Minnesota')\r\n",
                ", ('MS','Mississippi')\r\n",
                ", ('MO','Missouri')\r\n",
                ", ('MT','Montana')\r\n",
                ", ('NE','Nebraska')\r\n",
                ", ('NV','Nevada')\r\n",
                ", ('NH','New Hampshire')\r\n",
                ", ('NJ','New Jersey')\r\n",
                ", ('NM','New Mexico')\r\n",
                ", ('NY','New York')\r\n",
                ", ('NC','North Carolina')\r\n",
                ", ('ND','North Dakota')\r\n",
                ", ('OH','Ohio')\r\n",
                ", ('OK','Oklahoma')\r\n",
                ", ('OR','Oregon')\r\n",
                ", ('PA','Pennsylvania')\r\n",
                ", ('PR','Puerto Rico')\r\n",
                ", ('RI','Rhode Island')\r\n",
                ", ('SC','South Carolina')\r\n",
                ", ('SD','South Dakota')\r\n",
                ", ('TN','Tennessee')\r\n",
                ", ('TX','Texas')\r\n",
                ", ('UT','Utah')\r\n",
                ", ('VT','Vermont')\r\n",
                ", ('VA','Virginia')\r\n",
                ", ('WA','Washington')\r\n",
                ", ('WV','West Virginia')\r\n",
                ", ('WI','Wisconsin')\r\n",
                ", ('WY','Wyoming')\r\n",
                ""
            ],
            "metadata": {
                "language": "sql",
                "azdata_cell_guid": "51005d4e-e702-4940-9548-44122593eeee",
                "tags": [
                    "hide_input"
                ]
            },
            "outputs": [
                {
                    "output_type": "display_data",
                    "data": {
                        "text/html": "(52 rows affected)"
                    },
                    "metadata": {}
                },
                {
                    "output_type": "display_data",
                    "data": {
                        "text/html": "Total execution time: 00:00:00.652"
                    },
                    "metadata": {}
                }
            ],
            "execution_count": 15
        },
        {
            "cell_type": "code",
            "source": [
                "-- Anomaly Log Table\r\n",
                "\r\n",
                "DROP TABLE IF EXISTS AnomalyLog\r\n",
                "\r\n",
                "CREATE TABLE AnomalyLog\r\n",
                "(\r\n",
                "    IdentifyingColumnName VARCHAR(255) NOT NULL\r\n",
                "    , ColumnValue VARCHAR(4000) NOT NULL\r\n",
                "    , ConcatenatedRowData VARCHAR(4000) NOT NULL\r\n",
                ")"
            ],
            "metadata": {
                "language": "sql",
                "azdata_cell_guid": "0eae5ac2-fb8a-48b1-b930-4ed903d38b6a",
                "tags": []
            },
            "outputs": [
                {
                    "output_type": "display_data",
                    "data": {
                        "text/html": "Commands completed successfully."
                    },
                    "metadata": {}
                },
                {
                    "output_type": "display_data",
                    "data": {
                        "text/html": "Total execution time: 00:00:00.605"
                    },
                    "metadata": {}
                }
            ],
            "execution_count": 16
        }
    ]
}