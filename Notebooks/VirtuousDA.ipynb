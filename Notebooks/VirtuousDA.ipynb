{
    "metadata": {
        "kernelspec": {
            "name": "SQL",
            "display_name": "SQL",
            "language": "sql"
        },
        "language_info": {
            "name": "sql",
            "version": ""
        }
    },
    "nbformat_minor": 2,
    "nbformat": 4,
    "cells": [
        {
            "cell_type": "code",
            "source": [
                "-- MockContacts Table\r\n",
                "DROP TABLE IF EXISTS [dbo].[MockContacts]\r\n",
                "\r\n",
                "CREATE TABLE dbo.MockContacts\r\n",
                "(\r\n",
                "    [Number] VARCHAR(11) NOT NULL\r\n",
                "    , CompanyName VARCHAR(255) NULL\r\n",
                "    , FirstName VARCHAR(100) NULL\r\n",
                "    , LastName VARCHAR(100) NULL\r\n",
                "    , Street VARCHAR(255) NULL\r\n",
                "    , City VARCHAR(100) NULL\r\n",
                "    , [State] VARCHAR(2) NULL\r\n",
                "    , Postal VARCHAR(20) NULL\r\n",
                "    , Phone VARCHAR(50) NULL\r\n",
                "    , EMail VARCHAR(255) NULL\r\n",
                "    , Remarks VARCHAR(2000) NULL\r\n",
                "    , [Deceased?] VARCHAR (3) NULL\r\n",
                "    , SourceFilename VARCHAR(2000) NOT NULL\r\n",
                "    , ETLInsertDatetime DATETIME2(7) NOT NULL CONSTRAINT DF_MockContacts_ETLInsertDatetime DEFAULT (GETUTCDATE())\r\n",
                ")"
            ],
            "metadata": {
                "language": "sql",
                "azdata_cell_guid": "d072d191-0a7e-4f88-9bd6-d29c7aecdd74",
                "tags": [
                    "hide_input"
                ]
            },
            "outputs": [
                {
                    "output_type": "display_data",
                    "data": {
                        "text/html": "Commands completed successfully."
                    },
                    "metadata": {}
                },
                {
                    "output_type": "display_data",
                    "data": {
                        "text/html": "Total execution time: 00:00:00.060"
                    },
                    "metadata": {}
                }
            ],
            "execution_count": 15
        },
        {
            "cell_type": "code",
            "source": [
                "-- MockGifts Table\r\n",
                "DROP TABLE IF EXISTS [dbo].[MockGifts]\r\n",
                "\r\n",
                "CREATE TABLE dbo.MockGifts\r\n",
                "(\r\n",
                "    donor_number VARCHAR(11) NOT NULL\r\n",
                "    , gift_id INT NULL\r\n",
                "    , first_name VARCHAR(100) NULL\r\n",
                "    , last_name VARCHAR(100) NULL\r\n",
                "    , [amount received] VARCHAR(100) NULL\r\n",
                "    , [date] VARCHAR(100) NULL\r\n",
                "    , [credit card type] VARCHAR(100) NULL\r\n",
                "    , [payment method] VARCHAR(100) NULL\r\n",
                "    , notes VARCHAR(2000) NULL\r\n",
                "    , SourceFilename VARCHAR(2000) NOT NULL\r\n",
                "    , ETLInsertDatetime DATETIME2(7) NOT NULL CONSTRAINT DF_MockGifts_ETLInsertDatetime DEFAULT (GETUTCDATE())\r\n",
                ")"
            ],
            "metadata": {
                "language": "sql",
                "azdata_cell_guid": "60c74ead-0d52-41d7-ab36-c34f5a67cfef",
                "tags": [
                    "hide_input"
                ]
            },
            "outputs": [
                {
                    "output_type": "display_data",
                    "data": {
                        "text/html": "Commands completed successfully."
                    },
                    "metadata": {}
                },
                {
                    "output_type": "display_data",
                    "data": {
                        "text/html": "Total execution time: 00:00:00.069"
                    },
                    "metadata": {}
                }
            ],
            "execution_count": 7
        },
        {
            "cell_type": "code",
            "source": [
                "-- MockContactMethods Table\r\n",
                "DROP TABLE IF EXISTS [dbo].[MockContactMethods]\r\n",
                "\r\n",
                "CREATE TABLE dbo.MockContactMethods\r\n",
                "(\r\n",
                "    donor_number VARCHAR(11) NOT NULL\r\n",
                "    , Phone VARCHAR(100) NULL\r\n",
                "    , [E-mail] VARCHAR(255) NULL\r\n",
                "    , Fax VARCHAR(100) NULL\r\n",
                "    , SourceFilename VARCHAR(2000) NOT NULL\r\n",
                "    , ETLInsertDatetime DATETIME2(7) NOT NULL CONSTRAINT DF_MockContactMethods_ETLInsertDatetime DEFAULT (GETUTCDATE())\r\n",
                ")"
            ],
            "metadata": {
                "language": "sql",
                "azdata_cell_guid": "2d11b7f3-ecc2-495f-871e-5e982f7cd754",
                "tags": [
                    "hide_input"
                ]
            },
            "outputs": [
                {
                    "output_type": "display_data",
                    "data": {
                        "text/html": "Commands completed successfully."
                    },
                    "metadata": {}
                },
                {
                    "output_type": "display_data",
                    "data": {
                        "text/html": "Total execution time: 00:00:00.050"
                    },
                    "metadata": {}
                }
            ],
            "execution_count": 8
        }
    ]
}